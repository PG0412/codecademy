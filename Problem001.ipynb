{
  "nbformat": 4,
  "nbformat_minor": 0,
  "metadata": {
    "colab": {
      "provenance": [],
      "authorship_tag": "ABX9TyMMAO6Z78WEg//ZK4yLlbVy"
    },
    "kernelspec": {
      "name": "python3",
      "display_name": "Python 3"
    },
    "language_info": {
      "name": "python"
    },
    "accelerator": "GPU",
    "gpuClass": "standard"
  },
  "cells": [
    {
      "cell_type": "code",
      "source": [
        "count=0\n",
        "for num in range(1,1000):\n",
        "  if num%3==0:\n",
        "    count+=num\n",
        "  elif num%5==0:\n",
        "    count+=num\n",
        "print(count)"
      ],
      "metadata": {
        "colab": {
          "base_uri": "https://localhost:8080/"
        },
        "id": "83WGtwSCQnqT",
        "outputId": "b386c9be-6ea1-4b92-f07f-c44e221842af"
      },
      "execution_count": 4,
      "outputs": [
        {
          "output_type": "stream",
          "name": "stdout",
          "text": [
            "233168\n"
          ]
        }
      ]
    }
  ]
}