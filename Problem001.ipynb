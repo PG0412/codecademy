{
  "nbformat": 4,
  "nbformat_minor": 0,
  "metadata": {
    "colab": {
      "provenance": [],
      "authorship_tag": "ABX9TyPUCyHjqzKkD4XukTys/dx5"
    },
    "kernelspec": {
      "name": "python3",
      "display_name": "Python 3"
    },
    "language_info": {
      "name": "python"
    }
  },
  "cells": [
    {
      "cell_type": "code",
      "execution_count": 1,
      "metadata": {
        "colab": {
          "base_uri": "https://localhost:8080/"
        },
        "id": "S4UKyA6GOuR7",
        "outputId": "4188ae63-2f94-4afb-bdf0-414ab3b957e2"
      },
      "outputs": [
        {
          "output_type": "stream",
          "name": "stdout",
          "text": [
            "Welcome to GitHub!\n"
          ]
        }
      ],
      "source": [
        "print(\"Welcome to GitHub!\")"
      ]
    }
  ]
}