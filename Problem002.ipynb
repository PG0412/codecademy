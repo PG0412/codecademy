{
  "nbformat": 4,
  "nbformat_minor": 0,
  "metadata": {
    "colab": {
      "provenance": [],
      "authorship_tag": "ABX9TyMJB8JYECpWWp6wwqCYfSJf"
    },
    "kernelspec": {
      "name": "python3",
      "display_name": "Python 3"
    },
    "language_info": {
      "name": "python"
    }
  },
  "cells": [
    {
      "cell_type": "code",
      "execution_count": 1,
      "metadata": {
        "colab": {
          "base_uri": "https://localhost:8080/"
        },
        "id": "Vk_qFjlrR5Mi",
        "outputId": "04ad510b-b23e-489c-e0a4-8de1b33d07d8"
      },
      "outputs": [
        {
          "output_type": "stream",
          "name": "stdout",
          "text": [
            "4613732\n"
          ]
        }
      ],
      "source": [
        "def fib(num):\n",
        "  if num==1:\n",
        "    return 1\n",
        "  elif num==2:\n",
        "    return 2\n",
        "  else:\n",
        "    return fib(num-1)+fib(num-2)\n",
        "\n",
        "count=0\n",
        "x=2\n",
        "num=2 #Starting from 2 as 1 is odd\n",
        "while num<=4000000:\n",
        "  if num%2==0:\n",
        "    count+=num\n",
        "  x+=1\n",
        "  num=fib(x)\n",
        "\n",
        "print(count)"
      ]
    }
  ]
}