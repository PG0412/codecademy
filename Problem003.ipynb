{
  "nbformat": 4,
  "nbformat_minor": 0,
  "metadata": {
    "colab": {
      "provenance": [],
      "authorship_tag": "ABX9TyP1r8sEb9RyRaQvz/IRCRRU"
    },
    "kernelspec": {
      "name": "python3",
      "display_name": "Python 3"
    },
    "language_info": {
      "name": "python"
    }
  },
  "cells": [
    {
      "cell_type": "code",
      "execution_count": 10,
      "metadata": {
        "colab": {
          "base_uri": "https://localhost:8080/"
        },
        "id": "_w19uGpAUeGz",
        "outputId": "9363a2b5-d4d1-46fc-a360-a89b3f7cb616"
      },
      "outputs": [
        {
          "output_type": "stream",
          "name": "stdout",
          "text": [
            "6857\n"
          ]
        }
      ],
      "source": [
        "from math import sqrt\n",
        "\n",
        "largest=2\n",
        "answer=600851475143\n",
        "while answer!=1:\n",
        "  for num in range(largest,answer+1):\n",
        "    if answer%num==0:\n",
        "      answer=answer//num\n",
        "      largest=num\n",
        "      break\n",
        "print(largest)"
      ]
    }
  ]
}