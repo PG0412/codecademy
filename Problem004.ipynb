{
  "nbformat": 4,
  "nbformat_minor": 0,
  "metadata": {
    "colab": {
      "provenance": [],
      "authorship_tag": "ABX9TyP1yV7bEIS/60l/4XatICPR"
    },
    "kernelspec": {
      "name": "python3",
      "display_name": "Python 3"
    },
    "language_info": {
      "name": "python"
    }
  },
  "cells": [
    {
      "cell_type": "code",
      "execution_count": 1,
      "metadata": {
        "colab": {
          "base_uri": "https://localhost:8080/"
        },
        "id": "uW0jWX9ucqdf",
        "outputId": "8685b7b2-41b9-4807-ef70-9c062906a2f6"
      },
      "outputs": [
        {
          "output_type": "stream",
          "name": "stdout",
          "text": [
            "906609\n"
          ]
        }
      ],
      "source": [
        "array=[]\n",
        "for x in range(800,1000):\n",
        "  for y in range(800,1000):\n",
        "    check = str(x*y)\n",
        "    if check == check[::-1]:\n",
        "      array.append(x*y)\n",
        "\n",
        "print(max(array))"
      ]
    }
  ]
}