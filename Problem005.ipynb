{
  "nbformat": 4,
  "nbformat_minor": 0,
  "metadata": {
    "colab": {
      "provenance": [],
      "authorship_tag": "ABX9TyMuHVywfeU09auLRyJXClmm"
    },
    "kernelspec": {
      "name": "python3",
      "display_name": "Python 3"
    },
    "language_info": {
      "name": "python"
    }
  },
  "cells": [
    {
      "cell_type": "code",
      "execution_count": 18,
      "metadata": {
        "colab": {
          "base_uri": "https://localhost:8080/"
        },
        "id": "MCRLlBfKfzpm",
        "outputId": "a2042f0f-7261-4910-e96b-701de2078f23"
      },
      "outputs": [
        {
          "output_type": "stream",
          "name": "stdout",
          "text": [
            "2 4\n",
            "3 2\n",
            "5 1\n",
            "7 1\n",
            "11 1\n",
            "13 1\n",
            "17 1\n",
            "19 1\n",
            "232792560\n"
          ]
        }
      ],
      "source": [
        "from math import sqrt, ceil\n",
        "\n",
        "def prime(num):\n",
        "  for i in range(2,ceil(sqrt(num))+1):\n",
        "    if num%i==0 and num!=i:\n",
        "      return False\n",
        "  return True\n",
        "\n",
        "powers={}\n",
        "for x in range(2, 20):\n",
        "  if prime(x):\n",
        "    powers[x]=1\n",
        "    for num in range(x+1,20+1):\n",
        "      if num%x==0:\n",
        "        iters=1\n",
        "        current=num//x\n",
        "        while current%x==0:\n",
        "          iters+=1\n",
        "          current=current//x\n",
        "        if iters > powers[x]:\n",
        "          powers[x]=iters\n",
        "\n",
        "answer=1\n",
        "for prime in powers:\n",
        "  answer=answer*(prime**powers[prime])\n",
        "  print(str(prime), str(powers[prime]))\n",
        "\n",
        "print(answer)"
      ]
    }
  ]
}